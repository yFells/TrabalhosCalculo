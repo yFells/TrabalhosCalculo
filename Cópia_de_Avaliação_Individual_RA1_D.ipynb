{
  "nbformat": 4,
  "nbformat_minor": 0,
  "metadata": {
    "colab": {
      "provenance": [],
      "include_colab_link": true
    },
    "kernelspec": {
      "name": "python3",
      "display_name": "Python 3"
    },
    "language_info": {
      "name": "python"
    }
  },
  "cells": [
    {
      "cell_type": "markdown",
      "metadata": {
        "id": "view-in-github",
        "colab_type": "text"
      },
      "source": [
        "<a href=\"https://colab.research.google.com/github/yFells/TrabalhosCalculo/blob/main/C%C3%B3pia_de_Avalia%C3%A7%C3%A3o_Individual_RA1_D.ipynb\" target=\"_parent\"><img src=\"https://colab.research.google.com/assets/colab-badge.svg\" alt=\"Open In Colab\"/></a>"
      ]
    },
    {
      "cell_type": "markdown",
      "source": [],
      "metadata": {
        "id": "YH-duMjPKc1k"
      }
    },
    {
      "cell_type": "markdown",
      "source": [
        "# Instruções:\n",
        "Para a realização desta tarefa você precisa fazer uma cópia deste carderno de questões para a sua conta. Você responderá a questão colando no AVA o link para a sua cópia contendo as suas respostas. \n",
        "\n",
        "Se encontrar qualquer problema de compartilhamento, salve o seu carderno, contendo as suas soluções, no Github (Arquivo, Salvar no Github) e poste o link do github no canvas.\n",
        "\n",
        "\n",
        "Todas as questões precisam ser resolvidas algébrica e computacionalmente. Usando todos os recursos computacionais disponíveis na internet. Mas, você não pode consultar outros seres humanos. \n",
        "\n",
        "**Não se equeça de colar seu nome nesta célula:**\n",
        "# Nome FELIPE DE LIMA DOS SANTOS"
      ],
      "metadata": {
        "id": "tNp1k47LJe0G"
      }
    },
    {
      "cell_type": "markdown",
      "source": [
        "# Questão 1\n",
        "Um algoritmo paralelo é projetado para resolver problemas dividindo-os em subproblemas menores e resolvendo-os simultaneamente. Se um algoritmo leva 10 minutos para resolver um problema com 1 núcleo de processamento e seu tempo de execução é reduzido pela metade a cada vez que o número de núcleos é dobrado, quanto tempo levará para resolver o problema com 8 núcleos? Use a fórmula:\n",
        "\n",
        "$$\n",
        "T(n) = T_1 / \\log_2(n)\n",
        "$$\n",
        "\n",
        "onde $T(n)$ é o tempo de execução com $n$ núcleos e $T_1$ é o tempo de execução com 1 núcleo. Não esqueça de traçar um gráfico mostrando o tempo de execução, todas as vezes que dobramos a quantidade de núcleos até 64 núcleos.\n"
      ],
      "metadata": {
        "id": "Evhqbv_OOTYT"
      }
    },
    {
      "cell_type": "code",
      "execution_count": null,
      "metadata": {
        "id": "mlIlRBt1KTv4",
        "colab": {
          "base_uri": "https://localhost:8080/",
          "height": 335
        },
        "outputId": "be4a488d-ba4e-4334-b61c-44d1b5351125"
      },
      "outputs": [
        {
          "output_type": "stream",
          "name": "stdout",
          "text": [
            "3.0\n"
          ]
        },
        {
          "output_type": "stream",
          "name": "stderr",
          "text": [
            "<ipython-input-123-a52370a5b58f>:15: RuntimeWarning: divide by zero encountered in log2\n",
            "  return (5/(np.log2(x)))\n"
          ]
        },
        {
          "output_type": "display_data",
          "data": {
            "text/plain": [
              "<Figure size 432x288 with 1 Axes>"
            ],
            "image/png": "[encoded data removed]"
          },
          "metadata": {
            "needs_background": "light"
          }
        }
      ],
      "source": [
        "import sympy as sp\n",
        "import matplotlib.pyplot as plt\n",
        "import numpy as np\n",
        "\n",
        "#10 = 1n \n",
        "#5 = 2n\n",
        "\n",
        "sp.init_printing()\n",
        "n = sp.symbols('n')\n",
        "\n",
        "expr = 'T(n) = T1/log2(n)'\n",
        "expr1 = (5)/(np.log2(64))\n",
        "\n",
        "def T(x):\n",
        "   return (5/(np.log2(x)))\n",
        "\n",
        "# Define a faixa de valores de n\n",
        "x = np.linspace(0, 64, 100)\n",
        "\n",
        "\n",
        "# Plota a função\n",
        "p = plt.plot(x, T(x), 'r')\n",
        "\n",
        "# Adiciona uma linha horizontal no valor do limite\n",
        "\n",
        "\n",
        "# Adiciona título e rótulos dos eixos\n",
        "#p = plt.title('Gráfico do limite da função T(x) = T1/log2(x)')\n",
        "p = plt.xlabel('x')\n",
        "p = plt.ylabel('T(x)')\n",
        "p = plt.xlim(1, 64)\n",
        "p = plt.ylim(0, 10)\n",
        "p = plt.scatter(2,T(2))\n",
        "p = plt.text(5, T(2), (\"(2, 5)\"), fontsize=8)\n",
        "p = plt.scatter(4,T(4))\n",
        "\n",
        "p = plt.text(5, T(4), (\"(4, 2.5)\"), fontsize=8)\n",
        "p = plt.scatter(8,T(8))\n",
        "\n",
        "p = plt.text(10, T(8), (\"(8, 1.66)\"), fontsize=8)\n",
        "p = plt.scatter(16,T(16))\n",
        "\n",
        "p = plt.text(18, T(16)+0.25, (\"(16, 1.25 )\"), fontsize=8)\n",
        "p = plt.scatter(32,T(32))\n",
        "\n",
        "p = plt.text(34, T(32)+0.25, (\"(32, 1)\"), fontsize=8)\n",
        "p = plt.scatter(64,expr1)\n",
        "p = plt.text(56, expr1+0.5, (\"(64, 0.83)\"), fontsize=8)\n",
        "\n",
        "\n",
        "# Exibe o gráfico\n",
        "p = plt.show()\n",
        "\n"
      ]
    },
    {
      "cell_type": "markdown",
      "source": [
        "# Questão 2\n",
        "Usando, a seu critério, as bibliotecas do Python, crie um gráfico para cada uma das funções a seguir. No label do gráfico deverá estar a função impressa com qualidade matemática (latex) e uma label dizendo se a função é crescente ou decrescente. \n",
        "\n",
        "1. $2 \\cdot 3^x - 6^x = 48$\n",
        "\n",
        "2. $\\log_{10}(x^2 - 3x) - \\log_{10}(x - 3) = 1$"
      ],
      "metadata": {
        "id": "EpAp4ZFXP_0n"
      }
    },
    {
      "cell_type": "code",
      "source": [
        "import sympy as sp\n",
        "import matplotlib.pyplot as plt\n",
        "import numpy as np\n",
        "\n",
        "\n",
        "sp.init_printing()\n",
        "x = sp.symbols('x')\n",
        "\n",
        "expr1 = 2*3**x-6**x \n",
        "\n",
        "expr2 = np.log10(x**2-3*x)-np.log10(x-3)\n",
        "\n",
        "x = np.linspace(-100, 100, 100)\n",
        "\n",
        "#Função \n",
        "\n",
        "y = 2*3**x-6**x \n",
        "\n",
        "# Plota a função\n",
        "p = plt.plot(x, y, 'r')\n",
        "\n",
        "# Adiciona uma linha horizontal no valor do limite\n",
        "\n",
        "\n",
        "# Adiciona título e rótulos dos eixos\n",
        "\n",
        "p = plt.xlabel(r'$2*3^x-6^x = 48 $')\n",
        "p = plt.ylabel('Descrecente')\n",
        "p = plt.xlim(-64, 64)\n",
        "p = plt.ylim(-10, 10)\n",
        "\n",
        "# Exibe o gráfico\n",
        "p = plt.show()\n",
        "print('\\n')\n",
        "print('\\n')\n",
        "\n",
        "\n",
        "\n",
        "x = np.linspace(-100, 100, 100)\n",
        "\n",
        "#Função \n",
        "\n",
        "y = np.log10(x**2-3*x)-np.log10(x-3)\n",
        "\n",
        "# Plota a função\n",
        "p = plt.plot(x, y, 'r')\n",
        "\n",
        "# Adiciona uma linha horizontal no valor do limite\n",
        "\n",
        "\n",
        "# Adiciona título e rótulos dos eixos\n",
        "\n",
        "p = plt.xlabel(r'$log_{10}(x^2-3x)-log_{10}(x-3)) = 1 $')\n",
        "p = plt.ylabel('Crescente')\n",
        "p = plt.xlim(0, 50)\n",
        "p = plt.ylim(0, 5)\n",
        "\n",
        "# Exibe o gráfico\n",
        "p = plt.show()\n",
        "\n",
        "print('\\n')"
      ],
      "metadata": {
        "id": "9wB1Ddw-Sag0",
        "colab": {
          "base_uri": "https://localhost:8080/",
          "height": 627
        },
        "outputId": "c8d78d22-438f-4cda-e385-d066da35af13"
      },
      "execution_count": null,
      "outputs": [
        {
          "output_type": "stream",
          "name": "stderr",
          "text": [
            "<ipython-input-122-a0c33b60ec67>:11: RuntimeWarning: invalid value encountered in log10\n",
            "  expr2 = np.log10(x**2-3*x)-np.log10(x-3)\n"
          ]
        },
        {
          "output_type": "display_data",
          "data": {
            "text/plain": [
              "<Figure size 432x288 with 1 Axes>"
            ],
            "image/png": "[encoded data removed]"
          },
          "metadata": {
            "needs_background": "light"
          }
        },
        {
          "output_type": "stream",
          "name": "stderr",
          "text": [
            "<ipython-input-122-a0c33b60ec67>:41: RuntimeWarning: invalid value encountered in log10\n",
            "  y = np.log10(x**2-3*x)-np.log10(x-3)\n"
          ]
        },
        {
          "output_type": "display_data",
          "data": {
            "text/plain": [
              "<Figure size 432x288 with 1 Axes>"
            ],
            "image/png": "[encoded data removed]"
          },
          "metadata": {
            "needs_background": "light"
          }
        }
      ]
    },
    {
      "cell_type": "markdown",
      "source": [
        "# Questão 3\n",
        "Usando o Sympy, ou qualquer outro recurso disponível na internet, escreva, com qualidade matemática o passo-a-passo algébrico que leva a determinação dos seguintes limites. Ao final, para cada uma das equações você deverá traçar um gráfico da função. \n",
        "\n",
        "1. $\\lim_{x \\to 1} \\frac{x^{10} - 1}{x^5 - 1}$\n",
        "\n",
        "2. $\\lim_{x \\to \\pi} \\frac{\\cos(x) - 1}{x - \\pi}$"
      ],
      "metadata": {
        "id": "GRrFu4KNScDk"
      }
    },
    {
      "cell_type": "code",
      "source": [
        "import sympy as sp\n",
        "import sympy.printing.mathml as spmt\n",
        "import sympy.printing.codeprinter as spcp\n",
        "import matplotlib.pyplot as plt\n",
        "import numpy as np\n",
        "import IPython.display as disp\n",
        "from IPython.core.display import Math\n",
        "from tabulate import tabulate\n",
        "import math as mt\n",
        "from sympy.parsing.latex import parse_latex\n",
        "from IPython.core.interactiveshell import InteractiveShell\n",
        "\n",
        "InteractiveShell.ast_node_interactivity = \"all\"\n",
        "\n",
        "sp.init_printing()\n",
        "x = sp.symbols('x')\n",
        "\n",
        "expr1 = sp.limit((x**10 - 1)/(x**5-1),x,1)\n",
        "\n",
        "# Define a faixa de valores de x\n",
        "x = np.linspace(-10, 10, 100)\n",
        "\n",
        "# Calcula os valores do limite da função quando x se aproxima de infinito\n",
        "y = (x**10 - 1)/(x**5-1)\n",
        "\n",
        "# Plota a função\n",
        "p = plt.plot(x, y, 'r');\n",
        "\n",
        "print(\"\\n passo a passo \\n\")\n",
        "Math(rf'\\lim_{{x \\to 1}} \\frac{{x^{{10}} - 1}}{{x^5 - 1}}')\n",
        "print(\"\\n\")\n",
        "\n",
        "\n",
        "\n",
        "# Adiciona título e rótulos dos eixos\n",
        "p = plt.title('Gráfico do limite da função quando x tende ao infinito');\n",
        "p = plt.xlabel('x');\n",
        "p = plt.ylabel('f(x)');\n",
        "p = plt.xlim(-4, 4)\n",
        "p = plt.ylim(-5, 5)\n",
        "p = plt.scatter(1,expr1)\n",
        "p = plt.text(1+0.5, expr1+0.5, (\"(1, 2)\"), fontsize=8)\n",
        "\n",
        "# Exibe o gráfico\n",
        "plt.show()\n",
        "\n",
        "print('\\n')\n",
        "\n",
        "print(\"\\n passo a passo \\n\")\n",
        "Math(rf'\\lim_{{x \\to \\pi}} \\frac{{\\cos(x) - 1}}{{x - \\pi}}')\n",
        "print(\"\\n\")\n",
        "Math(rf'\\lim_{{x \\to \\pi}} \\frac{{\\cos(\\pi) - 1}}{{\\pi - \\pi}}')\n",
        "print('\\n')\n",
        "\n",
        "expr1 = sp.limit((np.cos(x)-1)/(x-(np.pi)),x,np.pi)\n",
        "\n",
        "# Define a faixa de valores de x\n",
        "x = np.linspace(-20, 25, 100)\n",
        "\n",
        "# Calcula os valores do limite da função quando x se aproxima de infinito\n",
        "y = (np.cos(x)-1)/(x-(np.pi))\n",
        "\n",
        "# Plota a função\n",
        "p = plt.plot(x, y, 'r');\n",
        "\n",
        "# Adiciona título e rótulos dos eixos\n",
        "p = plt.title('Gráfico do limite da função quando x tende a PI');\n",
        "p = plt.xlabel('x');\n",
        "p = plt.ylabel('f(x)');\n",
        "p = plt.xlim(-20, 25)\n",
        "p = plt.ylim(-3, 3)\n",
        "\n",
        "\n",
        "# Exibe o gráfico\n",
        "plt.show()\n",
        "\n",
        "\n"
      ],
      "metadata": {
        "colab": {
          "base_uri": "https://localhost:8080/",
          "height": 929
        },
        "id": "V1kEcWW3fqry",
        "outputId": "537a8e9c-f55f-486a-ac08-ed47c01f05cd"
      },
      "execution_count": 178,
      "outputs": [
        {
          "output_type": "stream",
          "name": "stdout",
          "text": [
            "\n",
            " passo a passo \n",
            "\n"
          ]
        },
        {
          "output_type": "execute_result",
          "data": {
            "text/plain": [
              "<IPython.core.display.Math object>"
            ],
            "text/latex": "$\\displaystyle \\lim_{x \\to 1} \\frac{x^{10} - 1}{x^5 - 1}$"
          },
          "metadata": {},
          "execution_count": 178
        },
        {
          "output_type": "stream",
          "name": "stdout",
          "text": [
            "\n",
            "\n"
          ]
        },
        {
          "output_type": "display_data",
          "data": {
            "text/plain": [
              "<Figure size 432x288 with 1 Axes>"
            ],
            "image/png": "[encoded data removed]"
          },
          "metadata": {
            "needs_background": "light"
          }
        },
        {
          "output_type": "stream",
          "name": "stdout",
          "text": [
            "\n",
            "\n",
            "\n",
            " passo a passo \n",
            "\n"
          ]
        },
        {
          "output_type": "execute_result",
          "data": {
            "text/plain": [
              "<IPython.core.display.Math object>"
            ],
            "text/latex": "$\\displaystyle \\lim_{x \\to \\pi} \\frac{\\cos(x) - 1}{x - \\pi}$"
          },
          "metadata": {},
          "execution_count": 178
        },
        {
          "output_type": "stream",
          "name": "stdout",
          "text": [
            "\n",
            "\n"
          ]
        },
        {
          "output_type": "execute_result",
          "data": {
            "text/plain": [
              "<IPython.core.display.Math object>"
            ],
            "text/latex": "$\\displaystyle \\lim_{x \\to \\pi} \\frac{\\cos(\\pi) - 1}{\\pi - \\pi}$"
          },
          "metadata": {},
          "execution_count": 178
        },
        {
          "output_type": "stream",
          "name": "stdout",
          "text": [
            "\n",
            "\n"
          ]
        },
        {
          "output_type": "display_data",
          "data": {
            "text/plain": [
              "<Figure size 432x288 with 1 Axes>"
            ],
            "image/png": "[encoded data removed]"
          },
          "metadata": {
            "needs_background": "light"
          }
        }
      ]
    }
  ]
}